{
 "cells": [
  {
   "cell_type": "code",
   "execution_count": null,
   "id": "cc8921d4-69af-4baf-b4be-7b58710d3afc",
   "metadata": {},
   "outputs": [],
   "source": [
    "import numpy as np\n",
    "import matplotlib.pyplot as plt\n",
    "import pandas as pd\n",
    "from pandas import Series, DataFrame\n",
    "import seaborn as sns\n",
    "from IPython.display import display\n",
    "import time\n",
    "from scipy import stats\n",
    "import hashlib\n",
    "\n",
    "NUM_PHONES= 4"
   ]
  },
  {
   "cell_type": "code",
   "execution_count": 2,
   "id": "aa775650-d228-41c0-8e4f-2ecdb53218bb",
   "metadata": {},
   "outputs": [],
   "source": [
    "def get_data(filename):\n",
    "    start = time.time()\n",
    "    df1 = pd.read_csv(filename, sep='\\t')\n",
    "    df1 = df1.set_axis([\"ATime\", \"Channel\", \"Signal\", \"Source\", \"Dest\", \"Seq\", \"SSID\", \"BSSID\"], axis=1)\n",
    "\n",
    "    df1[\"RTime\"] = 0\n",
    "    df1[\"Tag\"] = \"X\"\n",
    "    \n",
    "    \n",
    "\n",
    "    df1 = df1.drop([\"SSID\", \"BSSID\"], axis=1)\n",
    "    freq_map = {2412: 1, 2437: 6, 2462: 11}\n",
    "    df1 = df1.replace({\"Channel\": freq_map})\n",
    "    \n",
    "    # df1 = df1[0:1000000]\n",
    "\n",
    "    for i in range(1, len(df1)):\n",
    "        df1.loc[i, \"Tag\"] = str(df1.loc[i - 1, \"Channel\"]) + \"->\" + str(df1.loc[i, \"Channel\"])\n",
    "        df1.loc[i, \"CType\"] = \"Same\" if str(df1.loc[i - 1, \"Channel\"])  == str(df1.loc[i, \"Channel\"]) else \"Different\"\n",
    "        df1.loc[i, \"RTime\"] = df1.loc[i, \"ATime\"] - df1.loc[i - 1, \"ATime\"]\n",
    "\n",
    "    df1 = df1.iloc[1:, :]\n",
    "\n",
    "    df1 = df1.astype({\"ATime\": np.float32, \"RTime\": np.float32, \"Signal\": np.float32})\n",
    "\n",
    "    end = time.time()\n",
    "    print(\"Total Time: \", end - start)\n",
    "    \n",
    "    return df1\n",
    "    "
   ]
  },
  {
   "cell_type": "code",
   "execution_count": null,
   "id": "f28c5739-4618-4e81-a2d1-e1807678c64f",
   "metadata": {},
   "outputs": [],
   "source": [
    "# get the data\n",
    "df1 = get_data(\"../data/text/sample21.txt\")\n",
    "df2 = get_data(\"../data/text/sample22.txt\")\n",
    "df3 = get_data(\"../data/text/sample23.txt\")"
   ]
  },
  {
   "cell_type": "code",
   "execution_count": null,
   "id": "10c86a86-6175-407a-b2e8-ef2b7eba9459",
   "metadata": {},
   "outputs": [],
   "source": [
    "df3[\"Time\"] = df3[\"ATime\"] - df3[\"ATime\"].iloc[0]\n",
    "df3 = df3[(df3.Source == \"e8:50:8b:43:b1:20\") | (df3.Source ==\"a8:86:60:da:7d:7b\")].sort_values(by=\"Time\")\n",
    "df3[\"Phone\"] = 4\n",
    "switch = list(df3[df3.Source == \"e8:50:8b:43:b1:20\"].index)\n",
    "df3.loc[switch, \"Phone\"] = 3"
   ]
  },
  {
   "cell_type": "markdown",
   "id": "1e544059-35ca-4f8f-85ec-b3fd08a16325",
   "metadata": {},
   "source": [
    "First, we need to make sure we keep only the packets that we are interested in. We'll do this by looking for the MAC address that occurs the most frequently nearby the network cards."
   ]
  },
  {
   "cell_type": "code",
   "execution_count": null,
   "id": "804d7fa1-b656-49a1-b06f-21cd73d96e80",
   "metadata": {},
   "outputs": [],
   "source": [
    "print(\"Phone 1\")\n",
    "print(\"#\" * 20)\n",
    "display(df1[df1.Signal > -45].groupby(\"Source\").size().sort_values(ascending=False))\n",
    "print(\"#\" * 20)\n",
    "print(\"Phone 2\")\n",
    "print(\"#\" * 20)\n",
    "display(df2[df2.Signal > -45].groupby(\"Source\").size().sort_values(ascending=False))"
   ]
  },
  {
   "cell_type": "markdown",
   "id": "5a47a91d-5ad9-4cf6-9d8c-80dd0db18184",
   "metadata": {},
   "source": [
    "Let's see what the summary statistics for each phone looks like:"
   ]
  },
  {
   "cell_type": "code",
   "execution_count": null,
   "id": "8300227e-2887-4b5e-8509-3964c626ab8f",
   "metadata": {},
   "outputs": [],
   "source": [
    "df1 = df1[df1.Source == \"e8:50:8b:43:b1:20\"].iloc[0:100000]\n",
    "df2 = df2[df2.Source == \"a8:86:60:da:7d:7b\"].iloc[0:100000]\n",
    "\n",
    "df1[\"Phone\"] = 1\n",
    "df2[\"Phone\"] = 2\n",
    "\n",
    "df1[\"Time\"] = df1[\"ATime\"] - df1[\"ATime\"].iloc[0]\n",
    "df2[\"Time\"] = df2[\"ATime\"] - df2[\"ATime\"].iloc[0]\n",
    "\n",
    "df = pd.concat([df1, df2, df3])\n",
    "display(df)"
   ]
  },
  {
   "cell_type": "markdown",
   "id": "b5f84bc2-40fb-4b2f-84dd-c8518a38db57",
   "metadata": {},
   "source": [
    "Let's try taking 10000 samples and seeing if there is a preference in channel by phone:"
   ]
  },
  {
   "cell_type": "code",
   "execution_count": null,
   "id": "a9eba602-e762-4589-a53d-cf71202e166b",
   "metadata": {},
   "outputs": [],
   "source": [
    "\n",
    "df[[\"Phone\", \"Tag\", \"RTime\"]].groupby([\"Tag\", \"Phone\"]).describe()\n",
    "\n",
    "\n",
    "ft = df.sort_values(\"Time\").groupby(\"Phone\").apply(lambda x: x.sample(10000))\n",
    "ft = ft.reset_index(drop=True)\n",
    "# display(ft.groupby([\"Tag\", \"Phone\"]).size())\n",
    "display(ft.groupby([\"Phone\", \"Tag\"]).size())"
   ]
  },
  {
   "cell_type": "code",
   "execution_count": null,
   "id": "8f7b74fd-632a-4725-9b33-616f3b230bb0",
   "metadata": {},
   "outputs": [],
   "source": [
    "short = df.loc[df[\"RTime\"] < 0.3, [\"RTime\", \"CType\", \"Phone\"]]\n",
    "g = sns.FacetGrid(short, col=\"CType\", sharey=True, sharex=True, row=\"Phone\")\n",
    "g.map(sns.histplot, \"RTime\", binwidth = 0.02, stat=\"density\")\n",
    "g.figure.set_size_inches(14, 8)\n",
    "\n",
    "for ax in g.axes.flat:\n",
    "    ax.set_xticks(np.arange(0, 0.3, 0.02)) # <--- set the ticks first\n",
    "plt.show()"
   ]
  },
  {
   "cell_type": "code",
   "execution_count": null,
   "id": "3673d859-960a-4c06-9c6a-a59f7c8ca5c8",
   "metadata": {},
   "outputs": [],
   "source": [
    "ds = df[df.RTime < 0.5].sort_values(by=\"Time\")\n",
    "sns.violinplot(ds, x=\"CType\", y=\"RTime\", hue=\"Phone\")\n",
    "plt.show()"
   ]
  },
  {
   "cell_type": "code",
   "execution_count": null,
   "id": "29f28f21-cbce-4ab5-b4b4-762beddd81cd",
   "metadata": {},
   "outputs": [],
   "source": [
    "sns.displot(df[df.RTime < 0.3], x=\"RTime\", hue=\"Phone\", common_bins=True, bins=10, palette=\"deep\", binwidth=0.05).set(title=\"Interarrival times under 0.3 seconds\")\n",
    "plt.show()"
   ]
  },
  {
   "cell_type": "markdown",
   "id": "12dda56e-ae4c-4b5f-8ab3-b77c0f0c05ab",
   "metadata": {},
   "source": [
    "Let's take a look at the CDFs:"
   ]
  },
  {
   "cell_type": "code",
   "execution_count": null,
   "id": "13fe3034-e5fb-45f3-8070-84a863e376b5",
   "metadata": {},
   "outputs": [],
   "source": [
    "sns.displot(df[df.RTime < 0.4], x=\"RTime\", col=\"CType\", hue=\"Phone\", kind=\"ecdf\", palette=\"deep\")\n",
    "plt.show()"
   ]
  },
  {
   "cell_type": "markdown",
   "id": "ca22d62a-c30f-474a-82b8-d5de2bd88d5c",
   "metadata": {},
   "source": [
    "There appears to be more variance iwhen switching channels. Given that phones 1/3 and 2/4 are the same, we expect their CDFs to be roughly the same. This appears to be more true when we do not swithc channels. Let's try the KS test on each distribution (same channel probe or different channel probe):"
   ]
  },
  {
   "cell_type": "code",
   "execution_count": null,
   "id": "0197e760-9488-42d6-8d5f-c8a347839d97",
   "metadata": {},
   "outputs": [],
   "source": [
    "ks = []\n",
    "for dist in [\"Same\", \"Different\"]:\n",
    "    for phone1 in range(1,NUM_PHONES,1):\n",
    "        for phone2 in range(phone1+1, NUM_PHONES + 1, 1):\n",
    "            ls = df[(df.Phone == phone1) & (df.CType == dist)][\"RTime\"]\n",
    "            rs = df[(df.Phone == phone2) & (df.CType == dist)][\"RTime\"]\n",
    "            x = stats.kstest(ls, rs)\n",
    "            ks.append([phone1, phone2, x[0], x[1]])\n",
    "            \n",
    "\n",
    "ks = DataFrame(ks, columns=[\"Phone1\", \"Phone2\", \"Stat\", \"pValue\"])\n",
    "display(ks)"
   ]
  },
  {
   "cell_type": "markdown",
   "id": "f0b497fb-a08e-4eb2-b5af-6b87eadc2e01",
   "metadata": {},
   "source": [
    "Since the P values are approximately 0, it appears that we should be able to classify a pair of packets based on the interarrival time. Since the interarrival time for two packets on the same channel approaches 0, we will end up using the interarrival time between two packets that are on different chanels."
   ]
  },
  {
   "cell_type": "code",
   "execution_count": null,
   "id": "8353d933-3366-436d-ad52-de38992c39ab",
   "metadata": {},
   "outputs": [],
   "source": [
    "df[df.CType == \"Different\"].loc[:, [\"Phone\", \"RTime\"]].groupby(\"Phone\").describe()"
   ]
  },
  {
   "cell_type": "code",
   "execution_count": null,
   "id": "b16c1e78-3162-45e8-9323-c065fc3bd23d",
   "metadata": {},
   "outputs": [],
   "source": [
    "for i in range(1, NUM_PHONES + 1, 1):\n",
    "    mean = df.loc[df.Phone == i, \"RTime\"].mean()\n",
    "    std = df.loc[df.Phone == i, \"RTime\"].std()\n",
    "    print(f\"Variance to Mean ratio for phone {i} is {std**2/mean}\")"
   ]
  },
  {
   "cell_type": "code",
   "execution_count": null,
   "id": "d7fbc481-6cdc-47bd-b592-9fa47930c389",
   "metadata": {},
   "outputs": [],
   "source": [
    "def to_local(string):\n",
    "    try:\n",
    "        x = bytearray(string, encoding=\"ascii\")[1]\n",
    "    except:\n",
    "        return True\n",
    "    \n",
    "    y = (x >> 1) & 1\n",
    "    return y == 1\n",
    "    \n",
    "df[\"Random\"] = df[\"Source\"].str[0:2].map(to_local)"
   ]
  },
  {
   "cell_type": "code",
   "execution_count": null,
   "id": "8f14dced-82eb-43eb-a35b-800de5c2fa4c",
   "metadata": {},
   "outputs": [],
   "source": [
    "def hash_string(string):\n",
    "    x = string.encode(\"ascii\")\n",
    "    y = hashlib.md5(x)\n",
    "    return y.hexdigest()\n",
    "    \n",
    "# df[\"Source\"] = df[\"Source\"].map(hash_string)"
   ]
  },
  {
   "cell_type": "markdown",
   "id": "3fff6a4b-6df4-49dc-a37b-57338604c3b6",
   "metadata": {},
   "source": []
  },
  {
   "cell_type": "code",
   "execution_count": null,
   "id": "2f473172-9419-41a2-a9db-ca828994f5c9",
   "metadata": {},
   "outputs": [],
   "source": []
  }
 ],
 "metadata": {
  "kernelspec": {
   "display_name": "Python 3 (ipykernel)",
   "language": "python",
   "name": "python3"
  },
  "language_info": {
   "codemirror_mode": {
    "name": "ipython",
    "version": 3
   },
   "file_extension": ".py",
   "mimetype": "text/x-python",
   "name": "python",
   "nbconvert_exporter": "python",
   "pygments_lexer": "ipython3",
   "version": "3.10.8"
  }
 },
 "nbformat": 4,
 "nbformat_minor": 5
}
